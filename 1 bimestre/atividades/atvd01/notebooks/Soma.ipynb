{
 "cells": [
  {
   "cell_type": "code",
   "execution_count": null,
   "metadata": {},
   "outputs": [
    {
     "ename": "",
     "evalue": "",
     "output_type": "error",
     "traceback": [
      "\u001b[1;31mFalha ao iniciar o Kernel. \n",
      "\u001b[1;31mThe kernel 'Java' was not started as it is located in an insecure location 'c:\\ProgramData\\jupyter\\kernels\\java\\kernel.json'.  \n",
      "\u001b[1;31mClick <a href='https://aka.ms/JupyterTrustedKernelPaths'>here</a> for further details, optionally update the setting <a href='command:workbench.action.openSettings?[\"jupyter.kernels.trusted\"]'>jupyter.kernels.trusted</a> to trust the kernel."
     ]
    }
   ],
   "source": [
    "import java.util.Scanner;\n",
    "\n",
    "public class Soma{\n",
    "\tpublic static void main(String[] args){\n",
    "\t    double soma = 0;\n",
    "\t    double x = 1;\n",
    "\t    \n",
    "\t    Scanner leitor = new Scanner(System.in);\n",
    "\t    while (x != 0){\n",
    "\t        try {\n",
    "    \t        System.out.print(\"(digite um numero, 0 para parar).:\"); \n",
    "    \t        x = leitor.nextDouble(); \n",
    "    \t        soma+=x; // soma recebe x\n",
    "\t        } catch (Exception e) {\n",
    "                leitor.nextLine();\n",
    "                continue; \n",
    "            }\n",
    "\t    }\n",
    "\t    System.out.println(\"A soma e: \" + soma);\n",
    "\t}\n",
    "}"
   ]
  }
 ],
 "metadata": {
  "kernelspec": {
   "display_name": "Java",
   "language": "java",
   "name": "java"
  },
  "language_info": {
   "name": "java"
  },
  "orig_nbformat": 4
 },
 "nbformat": 4,
 "nbformat_minor": 2
}
