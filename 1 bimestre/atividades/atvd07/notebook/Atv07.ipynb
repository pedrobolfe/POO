{
 "cells": [
  {
   "cell_type": "markdown",
   "id": "cab6bad2-ca6d-416a-b20b-f6e50d675883",
   "metadata": {},
   "source": [
    "## Atv07"
   ]
  },
  {
   "cell_type": "markdown",
   "id": "b2b936ce-7e38-48f4-a9b1-55dc1a1f8a98",
   "metadata": {},
   "source": [
    "Apresente o trecho do código que armazena as notas em um array de cinco elementos."
   ]
  },
  {
   "cell_type": "code",
   "execution_count": null,
   "id": "424dd624-6111-465b-a71b-f38993dd6ce2",
   "metadata": {
    "vscode": {
     "languageId": "java"
    }
   },
   "outputs": [],
   "source": [
    "Float media = 0f; // uma variavel para calcular a media\n",
    "String aux; // variavel auxliar\n",
    "int notas[] = new int[5]; // declaração e alocação de um array\n",
    "for (int i = 0; i < 5; i++){ // inicio do loop for, usando loop for para repetir 5 vezes a classe JOptionPane para pedir as notas da prova\n",
    "    aux = JOptionPane.showInputDialog(\"Entre com a nota da \" + (i+1) + \" prova:\"); // caixas de dialogo para pedir as notas\n",
    "    //conversao dos dados para float e armazenando o dado no vetor\n",
    "    notas[i] = Integer.parseInt(aux); // inserindo as notas em um uma lista\n",
    "    media += notas[i];  // media vai receber a soma da nota de todas as provas\n",
    "} //fim do loop for "
   ]
  },
  {
   "cell_type": "markdown",
   "id": "e65ee387-a7af-49ac-aea4-c3371aa7ebe1",
   "metadata": {},
   "source": [
    "Apresente a saída em tela das cinco notas em ordem decrescente (da maior para a menor) e a média aritmética das notas."
   ]
  },
  {
   "cell_type": "code",
   "execution_count": null,
   "id": "b969791d-8371-4e76-88d6-8cfe81db87a2",
   "metadata": {
    "vscode": {
     "languageId": "java"
    }
   },
   "outputs": [],
   "source": [
    "String notas_ordem = \"\";\n",
    "for (int i = 1; i < notas.length; i++) { // inicio lop for\n",
    "    for (int j = 0; j < i; j++) {\n",
    "        if (notas[i] > notas[j]) {\n",
    "            int tmp = notas[i];\n",
    "            notas[i] = notas[j];\n",
    "            notas[j] = tmp;\n",
    "        }\n",
    "    }\n",
    "} // fim loop for\n",
    "\n",
    "for (int num : notas) { // inicio do loop for \n",
    "    notas_ordem += num + \"; \";  // colocando na string o numero e mais um \";\" para \"separar\" os numeros\n",
    "} // fim do loop for\n",
    "\n",
    "JOptionPane.showMessageDialog(null, \"Notas = \" + notas_ordem); // exibindo as notas em ordem decrescente em um caixa de dialogo usando a classe JOptionPane \n",
    "JOptionPane.showMessageDialog(null, \"Media = \" + media/5);"
   ]
  }
 ],
 "metadata": {
  "kernelspec": {
   "display_name": "Java",
   "language": "java",
   "name": "java"
  },
  "language_info": {
   "codemirror_mode": "java",
   "file_extension": ".jshell",
   "mimetype": "text/x-java-source",
   "name": "Java",
   "pygments_lexer": "java",
   "version": "19.0.2+7-44"
  }
 },
 "nbformat": 4,
 "nbformat_minor": 5
}
